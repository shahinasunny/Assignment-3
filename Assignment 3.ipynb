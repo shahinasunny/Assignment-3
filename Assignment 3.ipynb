{
 "cells": [
  {
   "cell_type": "code",
   "execution_count": null,
   "metadata": {},
   "outputs": [],
   "source": []
  },
  {
   "cell_type": "code",
   "execution_count": 57,
   "metadata": {},
   "outputs": [
    {
     "name": "stdout",
     "output_type": "stream",
     "text": [
      "Enter the first number: 1\n",
      "Enter the second number: 2\n",
      "Enter the Third number: 4\n",
      "Largest number is 4\n"
     ]
    }
   ],
   "source": [
    "num1=int(input(\"Enter the first number: \"));\n",
    "num2=int(input(\"Enter the second number: \"));\n",
    "num3=int(input(\"Enter the Third number: \"));\n",
    "def find_Biggest():      \n",
    "     if(num1>=num2) and (num1>=num2):\n",
    "        largest=num1\n",
    "    elif(num2>=num1) and (num2>=num3):\n",
    "         largest=num2\n",
    "    else:\n",
    "         largest=num3\n",
    "    print(\"Largest number is\",largest)\n",
    "find_Biggest();        "
   ]
  },
  {
   "cell_type": "code",
   "execution_count": 1,
   "metadata": {},
   "outputs": [
    {
     "name": "stdout",
     "output_type": "stream",
     "text": [
      "sss\n",
      "yes\n"
     ]
    }
   ],
   "source": [
    "def ispalindrome(s):\n",
    "    return s==s[::-1]\n",
    "s=ispalindrome(input(\"\"))\n",
    "if (s):\n",
    "    print(\"yes\")\n",
    "else:\n",
    "    print(\"no\")"
   ]
  },
  {
   "cell_type": "code",
   "execution_count": 27,
   "metadata": {},
   "outputs": [
    {
     "name": "stdout",
     "output_type": "stream",
     "text": [
      "ABCDEFghijkl\n",
      "Original String :  ABCDEFghijkl\n",
      "No. of Upper case characters :  6\n",
      "No. of Lower case Characters :  6\n"
     ]
    }
   ],
   "source": [
    "a=str(input())\n",
    "def string_test(a):\n",
    "    d={\"UPPER_CASE\":0, \"LOWER_CASE\":0}\n",
    "    for c in a:\n",
    "        if c.isupper():\n",
    "            d[\"UPPER_CASE\"]+=1\n",
    "        elif c.islower():\n",
    "            d[\"LOWER_CASE\"]+=1\n",
    "        else:\n",
    "            pass\n",
    "    print (\"Original String : \", a)\n",
    "    print (\"No. of Upper case characters : \", d[\"UPPER_CASE\"])\n",
    "    print (\"No. of Lower case Characters : \", d[\"LOWER_CASE\"])\n",
    "\n",
    "string_test(a)"
   ]
  },
  {
   "cell_type": "code",
   "execution_count": 31,
   "metadata": {},
   "outputs": [
    {
     "name": "stdout",
     "output_type": "stream",
     "text": [
      "Sum of all elements in given list:  74\n"
     ]
    }
   ],
   "source": [
    "# Python program to find sum of elements in list\n",
    "total = 0\n",
    "list1 = [11, 5, 17, 18, 23] \n",
    "for i in range(0, len(list1)):\n",
    "    total = total + list1[i]\n",
    "\n",
    "# printing total value\n",
    "print(\"Sum of all elements in given list: \", total)\n"
   ]
  },
  {
   "cell_type": "code",
   "execution_count": 33,
   "metadata": {},
   "outputs": [
    {
     "name": "stdout",
     "output_type": "stream",
     "text": [
      "The sum of elements 64\n"
     ]
    }
   ],
   "source": [
    "list2=[1,2,3,45,6,7]\n",
    "total=sum(list1)\n",
    "print(\"The sum of elements\",total)"
   ]
  },
  {
   "cell_type": "code",
   "execution_count": 38,
   "metadata": {},
   "outputs": [
    {
     "name": "stdout",
     "output_type": "stream",
     "text": [
      "12\n"
     ]
    }
   ],
   "source": [
    "list1 = [1, 3, 4]\n",
    "product = 1\n",
    "for item in list1:\n",
    "     product = product * item\n",
    "print(product)\n",
    "\n"
   ]
  },
  {
   "cell_type": "code",
   "execution_count": null,
   "metadata": {},
   "outputs": [],
   "source": []
  }
 ],
 "metadata": {
  "kernelspec": {
   "display_name": "Python 3",
   "language": "python",
   "name": "python3"
  },
  "language_info": {
   "codemirror_mode": {
    "name": "ipython",
    "version": 3
   },
   "file_extension": ".py",
   "mimetype": "text/x-python",
   "name": "python",
   "nbconvert_exporter": "python",
   "pygments_lexer": "ipython3",
   "version": "3.8.3"
  }
 },
 "nbformat": 4,
 "nbformat_minor": 4
}
